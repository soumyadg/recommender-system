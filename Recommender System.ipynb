{
 "cells": [
  {
   "cell_type": "markdown",
   "id": "b079fceb",
   "metadata": {},
   "source": [
    "### Import Libraries"
   ]
  },
  {
   "cell_type": "code",
   "execution_count": 1,
   "id": "8e647786",
   "metadata": {},
   "outputs": [],
   "source": [
    "import pandas as pd\n",
    "from sklearn.metrics.pairwise import cosine_similarity\n",
    "from sklearn.feature_extraction.text import TfidfVectorizer\n",
    "from sklearn.metrics.pairwise import linear_kernel\n",
    "\n",
    "import numpy as np\n",
    "import torch\n",
    "from transformers import RobertaTokenizer, RobertaModel\n",
    "\n",
    "import warnings\n",
    "warnings.filterwarnings('ignore')\n",
    "\n",
    "pd.set_option('display.max_columns', None)\n",
    "pd.set_option('display.max_rows', None)"
   ]
  },
  {
   "cell_type": "markdown",
   "id": "52507ee6",
   "metadata": {},
   "source": [
    "### Import Data"
   ]
  },
  {
   "cell_type": "code",
   "execution_count": 2,
   "id": "75a1cd27",
   "metadata": {},
   "outputs": [],
   "source": [
    "df=pd.read_csv('netflix_titles.csv')"
   ]
  },
  {
   "cell_type": "code",
   "execution_count": 3,
   "id": "4677b311",
   "metadata": {},
   "outputs": [],
   "source": [
    "df.dropna(subset = ['description'], inplace=True)\n",
    "df.dropna()\n",
    "df = df[['show_id', 'title', 'cast', 'description','listed_in', 'director']]"
   ]
  },
  {
   "cell_type": "markdown",
   "id": "ecaf1872",
   "metadata": {},
   "source": [
    "### CORPUS Generation"
   ]
  },
  {
   "cell_type": "code",
   "execution_count": 4,
   "id": "4b9c67bd",
   "metadata": {},
   "outputs": [],
   "source": [
    "def generate_corpus(title,cast,description,listed_in,director):\n",
    "    return title + \" \" + cast + \" \" + description+ \" \" + listed_in+ \" \" + director"
   ]
  },
  {
   "cell_type": "code",
   "execution_count": 5,
   "id": "a462deed",
   "metadata": {},
   "outputs": [],
   "source": [
    "corpus = []\n",
    "for i in range(len(df)):\n",
    "    title_str = str(df.iloc[i]['title'])\n",
    "    cast_str = str(df.iloc[i]['cast'])\n",
    "    description_str = str(df.iloc[i]['description'])\n",
    "    listed_in_str = str(df.iloc[i]['listed_in'])\n",
    "    director_str = str(df.iloc[i]['director'])\n",
    "    \n",
    "    corpus.append(generate_corpus(title_str, cast_str, description_str,listed_in_str,director_str))"
   ]
  },
  {
   "cell_type": "code",
   "execution_count": 6,
   "id": "5c2dee07",
   "metadata": {},
   "outputs": [],
   "source": [
    "# df.drop(columns=['id','genres', 'overview', 'tagline'], inplace=True)\n",
    "df['corpus'] = corpus"
   ]
  },
  {
   "cell_type": "code",
   "execution_count": 7,
   "id": "94835adb",
   "metadata": {},
   "outputs": [],
   "source": [
    "tfidf = TfidfVectorizer(stop_words='english')\n",
    "tfidf_matrix = tfidf.fit_transform(df['corpus'])"
   ]
  },
  {
   "cell_type": "code",
   "execution_count": 8,
   "id": "59843740",
   "metadata": {},
   "outputs": [
    {
     "data": {
      "text/plain": [
       "(8807, 8807)"
      ]
     },
     "execution_count": 8,
     "metadata": {},
     "output_type": "execute_result"
    }
   ],
   "source": [
    "cos_mat = linear_kernel(tfidf_matrix, tfidf_matrix)\n",
    "cos_mat.shape"
   ]
  },
  {
   "cell_type": "markdown",
   "id": "7dec1780",
   "metadata": {},
   "source": [
    "### Recommendation using Cosine Similarity"
   ]
  },
  {
   "cell_type": "code",
   "execution_count": 9,
   "id": "2ebd4d6a",
   "metadata": {},
   "outputs": [],
   "source": [
    "def get_recommendations(movie, n):\n",
    "    index = df[df['title']== movie].index[0]\n",
    "    similar_movies = sorted(list(enumerate(cos_mat[index])), reverse=True, key=lambda x: x[1]) \n",
    "    recomm = []\n",
    "    for i in similar_movies[1:n+1]:\n",
    "        recomm.append(df.iloc[i[0]].title)\n",
    "    return recomm"
   ]
  },
  {
   "cell_type": "code",
   "execution_count": 10,
   "id": "b81ccc68",
   "metadata": {},
   "outputs": [
    {
     "data": {
      "text/plain": [
       "['Earth and Blood',\n",
       " \"The Eagle of El-Se'eed\",\n",
       " 'Warrior',\n",
       " 'All Hail King Julien: Exiled',\n",
       " 'Elite Short Stories: Carla Samuel']"
      ]
     },
     "execution_count": 10,
     "metadata": {},
     "output_type": "execute_result"
    }
   ],
   "source": [
    "get_recommendations(\"Ganglands\", 5)"
   ]
  },
  {
   "cell_type": "markdown",
   "id": "2c677ca5",
   "metadata": {},
   "source": [
    "### Recommendation using Roberta"
   ]
  },
  {
   "cell_type": "code",
   "execution_count": 11,
   "id": "ebe06438",
   "metadata": {},
   "outputs": [
    {
     "name": "stderr",
     "output_type": "stream",
     "text": [
      "Some weights of the model checkpoint at roberta-base were not used when initializing RobertaModel: ['lm_head.bias', 'lm_head.dense.weight', 'lm_head.dense.bias', 'lm_head.layer_norm.weight', 'lm_head.layer_norm.bias']\n",
      "- This IS expected if you are initializing RobertaModel from the checkpoint of a model trained on another task or with another architecture (e.g. initializing a BertForSequenceClassification model from a BertForPreTraining model).\n",
      "- This IS NOT expected if you are initializing RobertaModel from the checkpoint of a model that you expect to be exactly identical (initializing a BertForSequenceClassification model from a BertForSequenceClassification model).\n",
      "Some weights of RobertaModel were not initialized from the model checkpoint at roberta-base and are newly initialized: ['roberta.pooler.dense.weight', 'roberta.pooler.dense.bias']\n",
      "You should probably TRAIN this model on a down-stream task to be able to use it for predictions and inference.\n"
     ]
    }
   ],
   "source": [
    "import numpy as np\n",
    "import torch\n",
    "from transformers import RobertaTokenizer, RobertaModel\n",
    "\n",
    "tokenizer = RobertaTokenizer.from_pretrained('roberta-base')\n",
    "model = RobertaModel.from_pretrained('roberta-base')\n",
    "\n",
    "def get_recommendations(movie, n):\n",
    "    if movie not in df['title'].values:\n",
    "        print(f\"Movie '{movie}' not found in the DataFrame.\")\n",
    "        return []\n",
    "\n",
    "    index = df[df['title'] == movie].index[0]\n",
    "    inputs = tokenizer(df.iloc[index]['corpus'], return_tensors='pt', max_length=512, truncation=True)\n",
    "    with torch.no_grad():\n",
    "        outputs = model(**inputs)\n",
    "\n",
    "    movie_embedding = outputs.last_hidden_state[:, 0, :].squeeze(0).numpy()\n",
    "    cos_similarities = []\n",
    "    for i in range(len(df)):\n",
    "        inputs_i = tokenizer(df.iloc[i]['corpus'], return_tensors='pt', max_length=512, truncation=True)\n",
    "        with torch.no_grad():\n",
    "            outputs_i = model(**inputs_i)\n",
    "        movie_embedding_i = outputs_i.last_hidden_state[:, 0, :].squeeze(0).numpy()\n",
    "        similarity = np.dot(movie_embedding, movie_embedding_i) / (np.linalg.norm(movie_embedding) * np.linalg.norm(movie_embedding_i))\n",
    "        cos_similarities.append(similarity)\n",
    "\n",
    "    similar_movies = sorted(list(enumerate(cos_similarities)), reverse=True, key=lambda x: x[1])\n",
    "\n",
    "    recommendations = []\n",
    "    for i in similar_movies[1:n+1]:\n",
    "        recommendations.append(df.iloc[i[0]]['title'])\n",
    "    \n",
    "    return recommendations"
   ]
  },
  {
   "cell_type": "code",
   "execution_count": 12,
   "id": "2b43fa01",
   "metadata": {},
   "outputs": [
    {
     "name": "stdout",
     "output_type": "stream",
     "text": [
      "['Dealer', 'Gang of the Caribbean', 'Carbon', 'The Stronghold', 'The Misadventures of Hedi and Cokeman']\n"
     ]
    }
   ],
   "source": [
    "recommendations = get_recommendations('Ganglands', n=5)\n",
    "print(recommendations)"
   ]
  },
  {
   "cell_type": "code",
   "execution_count": null,
   "id": "c529d511",
   "metadata": {},
   "outputs": [],
   "source": []
  },
  {
   "cell_type": "code",
   "execution_count": null,
   "id": "e61d1e9c",
   "metadata": {},
   "outputs": [],
   "source": []
  },
  {
   "cell_type": "code",
   "execution_count": null,
   "id": "e89a86de",
   "metadata": {},
   "outputs": [],
   "source": []
  }
 ],
 "metadata": {
  "kernelspec": {
   "display_name": "Python 3 (ipykernel)",
   "language": "python",
   "name": "python3"
  },
  "language_info": {
   "codemirror_mode": {
    "name": "ipython",
    "version": 3
   },
   "file_extension": ".py",
   "mimetype": "text/x-python",
   "name": "python",
   "nbconvert_exporter": "python",
   "pygments_lexer": "ipython3",
   "version": "3.11.3"
  }
 },
 "nbformat": 4,
 "nbformat_minor": 5
}
